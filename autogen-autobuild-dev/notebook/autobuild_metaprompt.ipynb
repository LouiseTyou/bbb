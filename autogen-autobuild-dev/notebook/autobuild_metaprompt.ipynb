{
 "cells": [
  {
   "cell_type": "markdown",
   "metadata": {},
   "source": [
    "# Meta Prompting Agent\n",
    "Meta prompting is a method proposed in the paper \"Meta-Prompting: Enhancing Language Models with Task-Agnostic Scaffolding\". Given a query, a meta expert generates specific instructions for different experts sequentially. The meta expert will solve the query according to the responses of the experts. Refer to details in the original [paper](https://arxiv.org/abs/2401.12954).\n",
    "\n",
    "We enhanced the original method by equipping the generated expert with a code interpreter (in this case a UserProxyAgent). Instead of resolving to a dedicated expert Python for programming-related problems, the expert can now generate and execute python code at its will.\n",
    "\n",
    "We introduce two ways of using MetaPromptAgent.\n",
    "1. Use a UserProxy to directly initiate chat with MetaPromptAgent.\n",
    "2. Use MetaAgent from Autobuild."
   ]
  },
  {
   "cell_type": "markdown",
   "metadata": {},
   "source": [
    "## Method 1: Directly Initiate Chat"
   ]
  },
  {
   "cell_type": "markdown",
   "metadata": {},
   "source": [
    "Preparations: Save your api key and endpoint into file named `OAI_CONFIG_LIST`. The config list should look like this:\n",
    "\n",
    "```python\n",
    "config_list = [\n",
    "    {\n",
    "        'model': 'gpt-4-1106-preview',\n",
    "        'api_key': '<your OpenAI API key here>',\n",
    "    },\n",
    "    {\n",
    "        'model': 'gpt-3.5-turbo',\n",
    "        'api_key': '<your Azure OpenAI API key here>',\n",
    "        'base_url': '<your Azure OpenAI API base here>',\n",
    "        'api_type': 'azure',\n",
    "        'api_version': '2024-02-15-preview',\n",
    "    }\n",
    "]\n",
    "```"
   ]
  },
  {
   "cell_type": "code",
   "execution_count": 3,
   "metadata": {},
   "outputs": [],
   "source": [
    "import autogen\n",
    "from autogen.agentchat.contrib.meta_prompt_agent import MetaPromptAgent\n",
    "from autogen.agentchat import UserProxyAgent\n",
    "from autogen.agentchat.contrib.meta_agent import MetaAgent\n",
    "from autogen.agentchat.contrib.meta_user_proxy_agent import MetaUserProxyAgent"
   ]
  },
  {
   "cell_type": "code",
   "execution_count": 4,
   "metadata": {},
   "outputs": [
    {
     "name": "stderr",
     "output_type": "stream",
     "text": [
      "/workspaces/autogen-autobuild-dev/autogen/agentchat/user_proxy_agent.py:83: UserWarning: Using None to signal a default code_execution_config is deprecated. Use {} to use default or False to disable code execution.\n",
      "  super().__init__(\n"
     ]
    }
   ],
   "source": [
    "proxy = UserProxyAgent(\n",
    "    name=\"UserProxy\",\n",
    "    human_input_mode=\"NEVER\",\n",
    "    is_termination_msg=lambda x: \">> FINAL ANSWER\" in x.get(\"content\", \"\"),\n",
    "    default_auto_reply=\"TERMINATE\",\n",
    ")\n",
    "\n",
    "meta = MetaPromptAgent(\n",
    "    name=\"MetaAgent\",\n",
    "    llm_config={\n",
    "        \"config_list\": autogen.config_list_from_json(\"OAI_CONFIG_LIST\", filter_dict={\"model\": [\"gpt-4-1106-preview\"]}),\n",
    "    },\n",
    "    is_termination_msg=lambda x: x.get(\"content\", \"\").strip().endswith(\"TERMINATE\"),\n",
    "    code_execution_config={\n",
    "        \"use_docker\": False,\n",
    "    },\n",
    ")"
   ]
  },
  {
   "cell_type": "code",
   "execution_count": 5,
   "metadata": {},
   "outputs": [
    {
     "name": "stdout",
     "output_type": "stream",
     "text": [
      "\u001b[33mUserProxy\u001b[0m (to MetaAgent):\n",
      "\n",
      "What is the result when the greatest common factor of 6432 and 132 is increased by 11? Put your final answer in \\box{}.\n",
      "\n",
      "--------------------------------------------------------------------------------\n",
      "\u001b[33mBelow is the inner conversation of the MetaPromptAgent\u001b[0m\n",
      "\u001b[33mROUND 0 Meta model output:\n",
      "\u001b[0m\n",
      "To solve the problem of finding the greatest common factor (GCF) of 6432 and 132 and then increasing the result by 11, I will consult the following experts:\n",
      "\n",
      "1. Expert Mathematician: To calculate the GCF of the two numbers.\n",
      "2. Expert Verifier: To verify the calculated GCF.\n",
      "3. Expert Calculator: To add 11 to the verified GCF.\n",
      "\n",
      "I will begin by consulting the Expert Mathematician to compute the GCF of 6432 and 132.\n",
      "\n",
      "Expert Mathematician:\n",
      "\"\"\"\n",
      "You are a mathematics expert, specializing in number theory. Determine the greatest common factor (GCF) of the numbers 6432 and 132.\n",
      "\"\"\"\n",
      "\u001b[31m\n",
      ">>>>>>>> EXECUTING CODE BLOCK 0 (inferred language is python)...\u001b[0m\n",
      "\u001b[33m\n",
      "Response from Expert Mathematician:\n",
      "\u001b[0m\n",
      "Certainly! We can use the Euclidean algorithm to find the greatest common factor (GCF) of the two numbers, 6432 and 132. Let me calculate that for you.\n",
      "\n",
      "```python\n",
      "def gcd(x, y):\n",
      "   while(y):\n",
      "       x, y = y, x % y\n",
      "   return x\n",
      "\n",
      "gcf = gcd(6432, 132)\n",
      "print(gcf)\n",
      "```\n",
      "\n",
      "This is the output of the code blocks when executed:\n",
      "\n",
      "12\n",
      "\u001b[33mROUND 1 Meta model output:\n",
      "\u001b[0m\n",
      "The Expert Mathematician has provided the GCF of 6432 and 132 as 12. The next logical step is to verify this result to ensure its accuracy. Since it is crucial to have a correct GCF before proceeding to the final answer, I will consult the Expert Verifier to double-check the GCF of 6432 and 132.\n",
      "\n",
      "Expert Verifier:\n",
      "\"\"\"\n",
      "You are an expert at verifying mathematical calculations. Please confirm the greatest common factor (GCF) of the numbers 6432 and 132 using your preferred method to ensure the accuracy of the previously given answer of 12.\n",
      "\"\"\"\n",
      "\u001b[31m\n",
      ">>>>>>>> EXECUTING CODE BLOCK 0 (inferred language is python)...\u001b[0m\n",
      "\u001b[33m\n",
      "Response from Expert Verifier:\n",
      "\u001b[0m\n",
      "To find the greatest common factor (GCF) of the numbers 6432 and 132, we can use Python's built-in function `math.gcd()` from the math module to calculate the GCD of the two given numbers. Let's use this method for verification.\n",
      "\n",
      "```python\n",
      "import math\n",
      "\n",
      "num1 = 6432\n",
      "num2 = 132\n",
      "\n",
      "gcf = math.gcd(num1, num2)\n",
      "print(gcf)\n",
      "```\n",
      "\n",
      "This is the output of the code blocks when executed:\n",
      "\n",
      "12\n",
      "\u001b[33mROUND 2 Meta model output:\n",
      "\u001b[0m\n",
      "The Expert Verifier has confirmed the GCF of 6432 and 132 as 12 using a different method, which corroborates the solution provided by the Expert Mathematician. With this confirmation, we can conclude that the GCF is indeed 12. The next step is to increase this value by 11 to answer the original question.\n",
      "\n",
      "So, the final answer can be calculated as follows:\n",
      "\n",
      "Final GCF = 12\n",
      "Increase by 11: 12 + 11 = 23\n",
      "\n",
      "Since the solution has been verified by two independent experts, and it matches with what I would expect as well, I can confidently present the final answer:\n",
      "\n",
      ">> FINAL ANSWER:\n",
      "\"\"\"\n",
      "\\(\\boxed{23}\\)\n",
      "\"\"\"\n",
      "\u001b[33mMetaAgent\u001b[0m (to UserProxy):\n",
      "\n",
      "The Expert Verifier has confirmed the GCF of 6432 and 132 as 12 using a different method, which corroborates the solution provided by the Expert Mathematician. With this confirmation, we can conclude that the GCF is indeed 12. The next step is to increase this value by 11 to answer the original question.\n",
      "\n",
      "So, the final answer can be calculated as follows:\n",
      "\n",
      "Final GCF = 12\n",
      "Increase by 11: 12 + 11 = 23\n",
      "\n",
      "Since the solution has been verified by two independent experts, and it matches with what I would expect as well, I can confidently present the final answer:\n",
      "\n",
      ">> FINAL ANSWER:\n",
      "\"\"\"\n",
      "\\(\\boxed{23}\\)\n",
      "\"\"\"\n",
      "\n",
      "--------------------------------------------------------------------------------\n"
     ]
    },
    {
     "data": {
      "text/plain": [
       "ChatResult(chat_id=None, chat_history=[{'content': 'What is the result when the greatest common factor of 6432 and 132 is increased by 11? Put your final answer in \\\\box{}.', 'role': 'assistant'}, {'content': 'The Expert Verifier has confirmed the GCF of 6432 and 132 as 12 using a different method, which corroborates the solution provided by the Expert Mathematician. With this confirmation, we can conclude that the GCF is indeed 12. The next step is to increase this value by 11 to answer the original question.\\n\\nSo, the final answer can be calculated as follows:\\n\\nFinal GCF = 12\\nIncrease by 11: 12 + 11 = 23\\n\\nSince the solution has been verified by two independent experts, and it matches with what I would expect as well, I can confidently present the final answer:\\n\\n>> FINAL ANSWER:\\n\"\"\"\\n\\\\(\\\\boxed{23}\\\\)\\n\"\"\"', 'role': 'user'}], summary='The Expert Verifier has confirmed the GCF of 6432 and 132 as 12 using a different method, which corroborates the solution provided by the Expert Mathematician. With this confirmation, we can conclude that the GCF is indeed 12. The next step is to increase this value by 11 to answer the original question.\\n\\nSo, the final answer can be calculated as follows:\\n\\nFinal GCF = 12\\nIncrease by 11: 12 + 11 = 23\\n\\nSince the solution has been verified by two independent experts, and it matches with what I would expect as well, I can confidently present the final answer:\\n\\n>> FINAL ANSWER:\\n\"\"\"\\n\\\\(\\\\boxed{23}\\\\)\\n\"\"\"', cost=({'total_cost': 0.03822, 'gpt-4-1106-preview': {'cost': 0.03822, 'prompt_tokens': 2601, 'completion_tokens': 407, 'total_tokens': 3008}}, {'total_cost': 0}), human_input=[])"
      ]
     },
     "execution_count": 5,
     "metadata": {},
     "output_type": "execute_result"
    }
   ],
   "source": [
    "proxy.initiate_chat(\n",
    "    meta,\n",
    "    message=\"What is the result when the greatest common factor of 6432 and 132 is increased by 11? Put your final answer in \\\\box{}.\",\n",
    ")"
   ]
  },
  {
   "cell_type": "markdown",
   "metadata": {},
   "source": [
    "## Method 2: MetaPrompt as a Tool\n",
    "MetaPrompt is integrated into AutoBuild and can be leveraged as a tool."
   ]
  },
  {
   "cell_type": "code",
   "execution_count": 7,
   "metadata": {},
   "outputs": [],
   "source": [
    "general_llm_config = {\n",
    "    \"config_list\": autogen.config_list_from_json(\"OAI_CONFIG_LIST\", filter_dict={\"model\": [\"gpt-4-1106-preview\"]}),\n",
    "}\n",
    "nested_mode_config = {\"meta_prompting_llm_config\": general_llm_config.copy()}"
   ]
  },
  {
   "cell_type": "markdown",
   "metadata": {},
   "source": [
    "Set nested_mode to 'meta_prompting' to enable MetaPrompting as a Tool."
   ]
  },
  {
   "cell_type": "code",
   "execution_count": 8,
   "metadata": {},
   "outputs": [],
   "source": [
    "meta_agent = MetaAgent(name=\"meta_agent\", llm_config=general_llm_config, nested_mode=\"meta_prompting\")\n",
    "meta_user_proxy = MetaUserProxyAgent(\n",
    "    name=\"meta_user_proxy\",\n",
    "    nested_mode_config=nested_mode_config,\n",
    "    code_execution_config={\n",
    "        \"use_docker\": False,\n",
    "    },\n",
    "    max_consecutive_auto_reply=1,\n",
    ")"
   ]
  },
  {
   "cell_type": "code",
   "execution_count": 9,
   "metadata": {},
   "outputs": [
    {
     "name": "stdout",
     "output_type": "stream",
     "text": [
      "\u001b[33mmeta_user_proxy\u001b[0m (to meta_agent):\n",
      "\n",
      "What is the result when the greatest common factor of 6432 and 132 is increased by 11? Put your final answer in \\box{}.\n",
      "\n",
      "--------------------------------------------------------------------------------\n",
      "\u001b[33mmeta_agent\u001b[0m (to meta_user_proxy):\n",
      "\n",
      "\u001b[32m***** Suggested tool Call (call_MoWklx8TDBwcdYjsKoB34D3b): meta_prompting *****\u001b[0m\n",
      "Arguments: \n",
      "{\"task\":\"What is the greatest common factor of 6432 and 132?\"}\n",
      "\u001b[32m*******************************************************************************\u001b[0m\n",
      "\n",
      "--------------------------------------------------------------------------------\n",
      "\u001b[35m\n",
      ">>>>>>>> EXECUTING FUNCTION meta_prompting...\u001b[0m\n"
     ]
    },
    {
     "name": "stdout",
     "output_type": "stream",
     "text": [
      "Running meta prompting...\n",
      "\u001b[33mBelow is the inner conversation of the MetaPromptAgent\u001b[0m\n",
      "\u001b[33mROUND 0 Meta model output:\n",
      "\u001b[0m\n",
      "Experts I may want to consult for finding the greatest common factor (GCF) of two numbers are:\n",
      "\n",
      "1. Expert Mathematician: They can apply mathematical theories and techniques to determine the GCF.\n",
      "2. Expert Number Theorist: As a specialist in number theory, they can focus on the properties and relationships of integers, which is useful for finding the GCF.\n",
      "3. Expert Calculator: They can perform the calculations required to determine the GCF if a specific algorithm is needed.\n",
      "\n",
      "Since finding the GCF is a mathematical problem that typically doesn't require multiple steps of verification and can be straightforwardly solved, I will start by contacting the Expert Mathematician to compute the GCF of 6432 and 132.\n",
      "\n",
      "Expert Mathematician:\n",
      "\"\"\"\n",
      "You are a mathematics expert with a deep understanding of number theory and arithmetic operations. Please compute the greatest common factor of the numbers 6432 and 132 using the Euclidean algorithm or any other efficient method you know.\n",
      "\"\"\"\n",
      "\u001b[31m\n",
      ">>>>>>>> EXECUTING CODE BLOCK 0 (inferred language is python)...\u001b[0m\n",
      "\u001b[33m\n",
      "Response from Expert Mathematician:\n",
      "\u001b[0m\n",
      "To compute the greatest common factor (GCF) or greatest common divisor (GCD) of the numbers 6432 and 132, we can indeed use the Euclidean algorithm, which is an efficient method for computing the GCD of two numbers. The Euclidean algorithm is based on the principle that the GCD of two numbers also divides their difference.\n",
      "\n",
      "Here's a brief overview of how the algorithm works:\n",
      "1. Divide the larger number by the smaller number.\n",
      "2. Take the remainder and divide the smaller number by this remainder.\n",
      "3. Repeat step 2 until the remainder is 0. The divisor at this stage will be the GCD of the two numbers.\n",
      "\n",
      "I will write a Python code snippet to calculate the GCD using the Euclidean algorithm:\n",
      "\n",
      "```python\n",
      "def gcd(a, b):\n",
      "    while b:\n",
      "        a, b = b, a % b\n",
      "    return a\n",
      "\n",
      "# numbers to find the GCD of\n",
      "num1 = 6432\n",
      "num2 = 132\n",
      "\n",
      "# calculating the GCD and printing it\n",
      "greatest_common_factor = gcd(num1, num2)\n",
      "print(greatest_common_factor)\n",
      "```\n",
      "\n",
      "Executing the above code will give us the GCD of 6432 and 132.\n",
      "\n",
      "This is the output of the code blocks when executed:\n",
      "\n",
      "12\n",
      "\u001b[33mROUND 1 Meta model output:\n",
      "\u001b[0m\n",
      "Based on the output provided by the Expert Mathematician, the most logical next step is to verify the solution for accuracy before delivering the final answer. To ensure that the Expert Mathematician's calculation of the GCD is correct, we should consult another expert with the same level of expertise in mathematics to independently verify the GCF of 6432 and 132.\n",
      "\n",
      "Let's proceed by asking another mathematician to confirm the GCF without specifying the method, to ensure that we are not biasing the approach and to allow for independent verification.\n",
      "\n",
      "Expert Mathematician:\n",
      "\"\"\"\n",
      "You are a mathematics expert proficient in number theory and algebra. Please independently determine the greatest common factor of the numbers 6432 and 132 without using the previously provided information. You may use any method you deem reliable.\n",
      "\"\"\"\n",
      "\u001b[31m\n",
      ">>>>>>>> EXECUTING CODE BLOCK 0 (inferred language is python)...\u001b[0m\n",
      "\u001b[33m\n",
      "Response from Expert Mathematician:\n",
      "\u001b[0m\n",
      "We can compute the greatest common factor (GCF) of two numbers by using the Euclidean algorithm which involves a series of division steps. The GCF will be the last non-zero remainder. I'll use a Python code block to write a function that implements this algorithm and apply it to the numbers 6432 and 132.\n",
      "\n",
      "```python\n",
      "def gcd(a, b):\n",
      "    while b != 0:\n",
      "        a, b = b, a % b\n",
      "    return a\n",
      "\n",
      "gcf = gcd(6432, 132)\n",
      "print(gcf)\n",
      "```\n",
      "\n",
      "This is the output of the code blocks when executed:\n",
      "\n",
      "12\n",
      "\u001b[33mROUND 2 Meta model output:\n",
      "\u001b[0m\n",
      "The output from the second Expert Mathematician independently confirms the solution provided by the first Expert Mathematician: the greatest common factor (GCF) of 6432 and 132 is 12.\n",
      "\n",
      "Given that we have now two independent confirmations of the GCF being 12, and the process used by both experts aligns with a known and reliable mathematical algorithm (the Euclidean algorithm), we have a high level of confidence in the accuracy of the solution.\n",
      "\n",
      "Thus, we can proceed to present the final answer.\n",
      "\n",
      ">> FINAL ANSWER:\n",
      "\"\"\"\n",
      "The greatest common factor (GCF) of 6432 and 132 is 12.\n",
      "\"\"\"\n",
      "\u001b[33mmeta_user_proxy\u001b[0m (to meta_agent):\n",
      "\n",
      "\u001b[33mmeta_user_proxy\u001b[0m (to meta_agent):\n",
      "\n",
      "\u001b[32m***** Response from calling tool \"call_MoWklx8TDBwcdYjsKoB34D3b\" *****\u001b[0m\n",
      "The output from the second Expert Mathematician independently confirms the solution provided by the first Expert Mathematician: the greatest common factor (GCF) of 6432 and 132 is 12.\n",
      "\n",
      "Given that we have now two independent confirmations of the GCF being 12, and the process used by both experts aligns with a known and reliable mathematical algorithm (the Euclidean algorithm), we have a high level of confidence in the accuracy of the solution.\n",
      "\n",
      "Thus, we can proceed to present the final answer.\n",
      "\n",
      ">> FINAL ANSWER:\n",
      "\"\"\"\n",
      "The greatest common factor (GCF) of 6432 and 132 is 12.\n",
      "\"\"\"\n",
      "\u001b[32m**********************************************************************\u001b[0m\n",
      "\n",
      "--------------------------------------------------------------------------------\n",
      "\u001b[33mmeta_agent\u001b[0m (to meta_user_proxy):\n",
      "\n",
      "The greatest common factor (GCF) of 6432 and 132 is 12. When increased by 11, the result would be \\(\\boxed{23}\\). \n",
      "\n",
      "TERMINATE\n",
      "\n",
      "--------------------------------------------------------------------------------\n"
     ]
    },
    {
     "data": {
      "text/plain": [
       "ChatResult(chat_id=None, chat_history=[{'content': 'What is the result when the greatest common factor of 6432 and 132 is increased by 11? Put your final answer in \\\\box{}.', 'role': 'assistant'}, {'tool_calls': [{'id': 'call_MoWklx8TDBwcdYjsKoB34D3b', 'function': {'arguments': '{\"task\":\"What is the greatest common factor of 6432 and 132?\"}', 'name': 'meta_prompting'}, 'type': 'function'}], 'content': None, 'role': 'assistant'}, {'content': 'The output from the second Expert Mathematician independently confirms the solution provided by the first Expert Mathematician: the greatest common factor (GCF) of 6432 and 132 is 12.\\n\\nGiven that we have now two independent confirmations of the GCF being 12, and the process used by both experts aligns with a known and reliable mathematical algorithm (the Euclidean algorithm), we have a high level of confidence in the accuracy of the solution.\\n\\nThus, we can proceed to present the final answer.\\n\\n>> FINAL ANSWER:\\n\"\"\"\\nThe greatest common factor (GCF) of 6432 and 132 is 12.\\n\"\"\"', 'tool_responses': [{'tool_call_id': 'call_MoWklx8TDBwcdYjsKoB34D3b', 'role': 'tool', 'content': 'The output from the second Expert Mathematician independently confirms the solution provided by the first Expert Mathematician: the greatest common factor (GCF) of 6432 and 132 is 12.\\n\\nGiven that we have now two independent confirmations of the GCF being 12, and the process used by both experts aligns with a known and reliable mathematical algorithm (the Euclidean algorithm), we have a high level of confidence in the accuracy of the solution.\\n\\nThus, we can proceed to present the final answer.\\n\\n>> FINAL ANSWER:\\n\"\"\"\\nThe greatest common factor (GCF) of 6432 and 132 is 12.\\n\"\"\"'}], 'role': 'tool'}, {'content': 'The greatest common factor (GCF) of 6432 and 132 is 12. When increased by 11, the result would be \\\\(\\\\boxed{23}\\\\). \\n\\nTERMINATE', 'role': 'user'}], summary='The greatest common factor (GCF) of 6432 and 132 is 12. When increased by 11, the result would be \\\\(\\\\boxed{23}\\\\). \\n\\n', cost=({'total_cost': 0.01023, 'gpt-4-1106-preview': {'cost': 0.01023, 'prompt_tokens': 816, 'completion_tokens': 69, 'total_tokens': 885}}, {'total_cost': 0}), human_input=[])"
      ]
     },
     "execution_count": 9,
     "metadata": {},
     "output_type": "execute_result"
    }
   ],
   "source": [
    "meta_user_proxy.initiate_chat(\n",
    "    meta_agent,\n",
    "    message=\"What is the result when the greatest common factor of 6432 and 132 is increased by 11? Put your final answer in \\\\box{}.\",\n",
    ")"
   ]
  }
 ],
 "metadata": {
  "kernelspec": {
   "display_name": "Python 3",
   "language": "python",
   "name": "python3"
  },
  "language_info": {
   "codemirror_mode": {
    "name": "ipython",
    "version": 3
   },
   "file_extension": ".py",
   "mimetype": "text/x-python",
   "name": "python",
   "nbconvert_exporter": "python",
   "pygments_lexer": "ipython3",
   "version": "3.10.13"
  }
 },
 "nbformat": 4,
 "nbformat_minor": 2
}
